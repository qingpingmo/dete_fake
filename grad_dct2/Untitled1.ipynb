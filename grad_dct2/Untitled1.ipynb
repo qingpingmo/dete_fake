{
 "cells": [
  {
   "cell_type": "code",
   "execution_count": null,
   "id": "f0375bfc",
   "metadata": {
    "collapsed": true
   },
   "outputs": [],
   "source": [
    "run /opt/data/private/wangjuntong/code/dark_matter/galaximview-master/galaximview/launchviewer.py"
   ]
  }
 ],
 "metadata": {
  "kernelspec": {
   "display_name": "Python 3",
   "language": "python",
   "name": "python3"
  }
 },
 "nbformat": 4,
 "nbformat_minor": 5
}
